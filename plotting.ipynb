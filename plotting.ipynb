{
 "cells": [
  {
   "cell_type": "code",
   "execution_count": null,
   "metadata": {},
   "outputs": [],
   "source": [
    "%pylab inline"
   ]
  },
  {
   "cell_type": "code",
   "execution_count": null,
   "metadata": {},
   "outputs": [],
   "source": [
    "pandemic_time_100 = [[23,24,22,23,23,25,26,22,23,22],[13,8,8,9,9,10,9,9,8,9],[7,5,5,5,6,7,6,5,5],[4,5,3,4,5,5,4,4,4,5],\n",
    "                    [4,3,4,4,4,4,3,4,5,4],[5,3,3,3,4,4,4,5,3,3],[3,5,5,3,4,4,3,4,4,4,],[3,4,4,3,4,3,3,3,4,3]]\n",
    "links_100 = [99,475,900,1275,1600,1875,2100,2400]"
   ]
  },
  {
   "cell_type": "code",
   "execution_count": null,
   "metadata": {},
   "outputs": [],
   "source": [
    "plot(links_100,pandemic_time_100)"
   ]
  },
  {
   "cell_type": "code",
   "execution_count": null,
   "metadata": {},
   "outputs": [],
   "source": [
    "pandemic_time_1000 = [[40,44,44,41,39,42,45,44,38,45],[15,20,15,17,15,17,15,17,17,15],[11,11,13,12,14,12,10,12,10,12],\n",
    "                     [9,10,9,10,10,8,10,9,9,9],[11,8,13,8,10,10,9,10,10,10],[8,7,8,8,6,8,7,8,7,9],\n",
    "                     [7,7,6,8,7,8,6,7,7,7],[5,5,6,6,7,6,5,6,6,6],[5,5,4,5,5,5,5,5,4,5]]\n",
    "links_1000 = [999,4975,9900,14775,19600,24375,29100,38406,65100]"
   ]
  },
  {
   "cell_type": "code",
   "execution_count": null,
   "metadata": {},
   "outputs": [],
   "source": [
    "plot(links_1000,pandemic_time_1000)"
   ]
  },
  {
   "cell_type": "code",
   "execution_count": null,
   "metadata": {},
   "outputs": [],
   "source": [
    "pandemic_time_10000 = [[60,52,59,64,51,60,57,58,51,53],[24,23,22,25,23,24,22,25,24,23],[17,15,17,18,18,16,15,17,16,18],\n",
    "                      [15,14,14,14,15,14,14,15,14,14],[15,13,14,12,11,12,12,13,14,12],[15,15,12,12,13,15,14,13,14,13],\n",
    "                      [11,9,12,11,13,11,12,11,12,12],[9,9,9,9,10,9,9,9,9,9],[8,8,8,8,8,8,8,8,8,7],[8,7,7,7,8,7,7,7,8,7]]\n",
    "links_10000 = [9999,49975,99900,149775,199600,249375,299100,398400,546975,695100]"
   ]
  },
  {
   "cell_type": "code",
   "execution_count": null,
   "metadata": {},
   "outputs": [],
   "source": [
    "boxplot[pandemic_time_100]"
   ]
  },
  {
   "cell_type": "code",
   "execution_count": null,
   "metadata": {},
   "outputs": [],
   "source": [
    "help(boxplot)"
   ]
  },
  {
   "cell_type": "code",
   "execution_count": null,
   "metadata": {},
   "outputs": [],
   "source": [
    "fig, axs = plt.subplots(1, 1,figsize=(10,10))\n",
    "plt.title(\"100 nodes - infection speed vs. network density\")\n",
    "plt.xlabel(\"Network links\")\n",
    "plt.ylabel(\"Infection speed\")\n",
    "boxplot([pandemic_time_100[i] for i in range(len(pandemic_time_100))],widths = 100,positions = links_100)\n",
    "plot([99,475,900,1275,1600,1875,2100,2400],[mean(pandemic_time_100[i]) for i in range(len(pandemic_time_100))])\n",
    "axs.set_xlim(10,2500)\n",
    "#plt.savefig('/Users/Nciola/Documents/UniTo/MAS/SEIHRD-compartmental-agent-based-model-master_modified_MAS/plots/100_nodi.jpeg')"
   ]
  },
  {
   "cell_type": "code",
   "execution_count": null,
   "metadata": {},
   "outputs": [],
   "source": [
    "fig, axs = plt.subplots(1, 1,figsize=(10,10))\n",
    "plt.title(\"1000 nodes - infection speed vs. network density\")\n",
    "plt.xlabel(\"Network links\")\n",
    "plt.ylabel(\"Infection speed\")\n",
    "boxplot([pandemic_time_1000[i] for i in range(len(pandemic_time_1000))],widths = 4000,positions = links_1000)\n",
    "plot(links_1000,[mean(pandemic_time_1000[i]) for i in range(len(pandemic_time_1000))])\n",
    "axs.set_xlim(-2000,71200)\n",
    "#plt.savefig('/Users/Nciola/Documents/UniTo/MAS/SEIHRD-compartmental-agent-based-model-master_modified_MAS/plots/1000_nodi.jpeg')"
   ]
  },
  {
   "cell_type": "code",
   "execution_count": null,
   "metadata": {},
   "outputs": [],
   "source": [
    "fig, axs = plt.subplots(1, 1,figsize=(10,10))\n",
    "plt.title(\"10000 nodes - infection speed vs. network density\")\n",
    "plt.xlabel(\"Network links\")\n",
    "plt.ylabel(\"Infection speed\")\n",
    "boxplot([pandemic_time_10000[i] for i in range(len(pandemic_time_10000))],widths = 30000,positions = links_10000)\n",
    "plot(links_10000,[mean(pandemic_time_10000[i]) for i in range(len(pandemic_time_10000))])\n",
    "axs.set_xlim(-20000,712000)\n",
    "#plt.savefig('/Users/Nciola/Documents/UniTo/MAS/SEIHRD-compartmental-agent-based-model-master_modified_MAS/plots/10000_nodi.jpeg')"
   ]
  },
  {
   "cell_type": "code",
   "execution_count": null,
   "metadata": {},
   "outputs": [],
   "source": []
  },
  {
   "cell_type": "code",
   "execution_count": null,
   "metadata": {},
   "outputs": [],
   "source": []
  }
 ],
 "metadata": {
  "kernelspec": {
   "display_name": "Python 2",
   "language": "python",
   "name": "python2"
  },
  "language_info": {
   "codemirror_mode": {
    "name": "ipython",
    "version": 2
   },
   "file_extension": ".py",
   "mimetype": "text/x-python",
   "name": "python",
   "nbconvert_exporter": "python",
   "pygments_lexer": "ipython2",
   "version": "2.7.16"
  }
 },
 "nbformat": 4,
 "nbformat_minor": 2
}
